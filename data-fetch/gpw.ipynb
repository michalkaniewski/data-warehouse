{
 "cells": [
  {
   "cell_type": "code",
   "execution_count": 57,
   "id": "c53fc688-2761-4fbd-96a3-d41cc2ab4212",
   "metadata": {},
   "outputs": [],
   "source": [
    "from IPython.core.interactiveshell import InteractiveShell\n",
    "InteractiveShell.ast_node_interactivity = \"all\"\n",
    "\n",
    "import datetime\n",
    "import requests\n",
    "import numpy as np\n",
    "import pandas as pd"
   ]
  },
  {
   "cell_type": "code",
   "execution_count": 58,
   "id": "63185a0f-bd1f-40a4-bca2-351a4998848c",
   "metadata": {},
   "outputs": [
    {
     "data": {
      "text/html": [
       "<div>\n",
       "<style scoped>\n",
       "    .dataframe tbody tr th:only-of-type {\n",
       "        vertical-align: middle;\n",
       "    }\n",
       "\n",
       "    .dataframe tbody tr th {\n",
       "        vertical-align: top;\n",
       "    }\n",
       "\n",
       "    .dataframe thead th {\n",
       "        text-align: right;\n",
       "    }\n",
       "</style>\n",
       "<table border=\"1\" class=\"dataframe\">\n",
       "  <thead>\n",
       "    <tr style=\"text-align: right;\">\n",
       "      <th></th>\n",
       "      <th>Nazwa</th>\n",
       "      <th>Waluta</th>\n",
       "      <th>Kurs otwarcia</th>\n",
       "      <th>Kurs maksymalny</th>\n",
       "      <th>Kurs minimalny</th>\n",
       "      <th>Kurs zamknięcia</th>\n",
       "      <th>Zmiana kursu %</th>\n",
       "      <th>Wartość obrotu (w tys.)</th>\n",
       "    </tr>\n",
       "  </thead>\n",
       "  <tbody>\n",
       "    <tr>\n",
       "      <th>0</th>\n",
       "      <td>06MAGNA</td>\n",
       "      <td>PLN</td>\n",
       "      <td>27400</td>\n",
       "      <td>27800</td>\n",
       "      <td>26600</td>\n",
       "      <td>27100</td>\n",
       "      <td>-109</td>\n",
       "      <td>3288</td>\n",
       "    </tr>\n",
       "    <tr>\n",
       "      <th>1</th>\n",
       "      <td>08OCTAVA</td>\n",
       "      <td>PLN</td>\n",
       "      <td>10300</td>\n",
       "      <td>10500</td>\n",
       "      <td>10300</td>\n",
       "      <td>10300</td>\n",
       "      <td>0</td>\n",
       "      <td>012</td>\n",
       "    </tr>\n",
       "    <tr>\n",
       "      <th>2</th>\n",
       "      <td>11BIT</td>\n",
       "      <td>PLN</td>\n",
       "      <td>5050000</td>\n",
       "      <td>5230000</td>\n",
       "      <td>5000000</td>\n",
       "      <td>5090000</td>\n",
       "      <td>79</td>\n",
       "      <td>2 090,31</td>\n",
       "    </tr>\n",
       "    <tr>\n",
       "      <th>3</th>\n",
       "      <td>3RGAMES</td>\n",
       "      <td>PLN</td>\n",
       "      <td>07380</td>\n",
       "      <td>07380</td>\n",
       "      <td>07200</td>\n",
       "      <td>07300</td>\n",
       "      <td>282</td>\n",
       "      <td>307</td>\n",
       "    </tr>\n",
       "    <tr>\n",
       "      <th>4</th>\n",
       "      <td>4FUNMEDIA</td>\n",
       "      <td>PLN</td>\n",
       "      <td>52600</td>\n",
       "      <td>55400</td>\n",
       "      <td>52400</td>\n",
       "      <td>54600</td>\n",
       "      <td>263</td>\n",
       "      <td>24864</td>\n",
       "    </tr>\n",
       "  </tbody>\n",
       "</table>\n",
       "</div>"
      ],
      "text/plain": [
       "       Nazwa Waluta Kurs otwarcia Kurs maksymalny Kurs minimalny  \\\n",
       "0    06MAGNA    PLN         27400           27800          26600   \n",
       "1   08OCTAVA    PLN         10300           10500          10300   \n",
       "2      11BIT    PLN       5050000         5230000        5000000   \n",
       "3    3RGAMES    PLN         07380           07380          07200   \n",
       "4  4FUNMEDIA    PLN         52600           55400          52400   \n",
       "\n",
       "  Kurs zamknięcia  Zmiana kursu % Wartość obrotu (w tys.)  \n",
       "0           27100            -109                    3288  \n",
       "1           10300               0                     012  \n",
       "2         5090000              79                2 090,31  \n",
       "3           07300             282                     307  \n",
       "4           54600             263                   24864  "
      ]
     },
     "execution_count": 58,
     "metadata": {},
     "output_type": "execute_result"
    }
   ],
   "source": [
    "# today = datetime.date.today()\n",
    "today = datetime.date(2021, 5, 28)\n",
    "\n",
    "if len(pd.bdate_range(today, today)) > 0:\n",
    "    today_string = f\"{today.day}-{today.month}-{today.year}\"\n",
    "    data = pd.read_html(f\"https://www.gpw.pl/archiwum-notowan?fetch=0&type=10&instrument=&date={today_string}&show_x=Poka%C5%BC+wyniki\")\n",
    "    data[1].head()"
   ]
  },
  {
   "cell_type": "code",
   "execution_count": 59,
   "id": "cc3968bc-c526-4213-850d-d40525020e26",
   "metadata": {},
   "outputs": [
    {
     "name": "stdout",
     "output_type": "stream",
     "text": [
      "Not a business day\n"
     ]
    }
   ],
   "source": [
    "today = datetime.date.today()\n",
    "# today = datetime.date(2021, 5, 28)\n",
    "\n",
    "if len(pd.bdate_range(today, today)) > 0:\n",
    "    today_string = f\"{today.day}-{today.month}-{today.year}\"\n",
    "    data = pd.read_html(f\"https://www.gpw.pl/archiwum-notowan?fetch=0&type=10&instrument=&date={today_string}&show_x=Poka%C5%BC+wyniki\")\n",
    "    data[1].head()\n",
    "else:\n",
    "    print(\"Not a business day\")"
   ]
  }
 ],
 "metadata": {
  "kernelspec": {
   "display_name": "Python 3",
   "language": "python",
   "name": "python3"
  },
  "language_info": {
   "codemirror_mode": {
    "name": "ipython",
    "version": 3
   },
   "file_extension": ".py",
   "mimetype": "text/x-python",
   "name": "python",
   "nbconvert_exporter": "python",
   "pygments_lexer": "ipython3",
   "version": "3.9.5"
  }
 },
 "nbformat": 4,
 "nbformat_minor": 5
}
